{
 "cells": [
  {
   "cell_type": "markdown",
   "metadata": {
    "id": "pIFqXUhIR9TY"
   },
   "source": [
    "# **Applied Machine Learning: Best Model : 12/18/23**\n",
    "**Team HDR: Ryan Pittman, Daniel de las Heras, Hasibul Jishan**\n",
    "\n",
    "Objective: Final Best Model."
   ]
  },
  {
   "cell_type": "markdown",
   "metadata": {
    "id": "fdRX3clwgFpi"
   },
   "source": [
    "## Functions and Imports"
   ]
  },
  {
   "cell_type": "code",
   "execution_count": null,
   "metadata": {
    "id": "b_u5LeO0R1nO"
   },
   "outputs": [],
   "source": [
    "# Import the necessary Python libraries for EDA\n",
    "import  pandas  as pd\n",
    "import  numpy   as np\n",
    "import  matplotlib.pyplot as plt\n",
    "import  scipy\n",
    "from    scipy import stats\n",
    "import  seaborn as sns\n",
    "from    scipy import stats\n",
    "from    sklearn.preprocessing import StandardScaler\n",
    "from    datetime import datetime\n",
    "from    sklearn.linear_model import LogisticRegression\n",
    "from    sklearn.model_selection import train_test_split\n",
    "from scipy.stats import randint\n",
    "from sklearn.tree import DecisionTreeClassifier # Import Decision Tree Classifier\n",
    "from sklearn.model_selection import train_test_split # Import train_test_split function\n",
    "from sklearn import metrics #Import scikit-learn metrics module for accuracy calculation\n",
    "from sklearn.neighbors import KNeighborsClassifier\n",
    "from sklearn.ensemble import RandomForestClassifier\n",
    "from sklearn.ensemble import ExtraTreesClassifier\n",
    "from sklearn.ensemble import GradientBoostingClassifier\n",
    "from sklearn.linear_model import LogisticRegression\n",
    "from sklearn import naive_bayes\n",
    "#from catboost import CatBoostClassifier\n",
    "from lightgbm import LGBMClassifier\n",
    "\n",
    "from sklearn import preprocessing\n",
    "from sklearn.model_selection import RandomizedSearchCV, train_test_split, GridSearchCV\n",
    "\n",
    "from sklearn.metrics import ConfusionMatrixDisplay\n",
    "\n",
    "from xgboost import XGBRegressor\n",
    "from xgboost import XGBClassifier\n",
    "\n",
    "#from catboost import CatBoostRegressor\n",
    "\n",
    "from lightgbm import LGBMRegressor\n",
    "\n",
    "from tqdm import tqdm\n",
    "\n",
    "from sklearn.metrics import roc_auc_score"
   ]
  },
  {
   "cell_type": "code",
   "execution_count": null,
   "metadata": {
    "id": "NpkXQ0BAU-xK"
   },
   "outputs": [],
   "source": [
    "# Function that performs a 0.25-0.75 datasplit and standardizes the data\n",
    "def dataSplitStandard(X,y,ListColumnsToStandardize):\n",
    "  # Data split and standarization\n",
    "  X_train, X_test, y_train, y_test = train_test_split(X,y,test_size=0.25)\n",
    "  mean = X_train[ListColumnsToStandardize].mean()\n",
    "  stdev = X_train[ListColumnsToStandardize].std()\n",
    "  #run without this for KNN first\n",
    "  X_train_st = X_train.copy()\n",
    "  X_train_st[ListColumnsToStandardize] = (X_train[ListColumnsToStandardize] - mean)/stdev\n",
    "  #X_train_st.boxplot()\n",
    "  X_test_st = X_test.copy()\n",
    "  X_test_st[ListColumnsToStandardize] = (X_test[ListColumnsToStandardize] - mean)/stdev\n",
    "  return X_train_st, X_test_st, y_train, y_test"
   ]
  },
  {
   "cell_type": "code",
   "execution_count": null,
   "metadata": {
    "id": "2Uz3-7pgSR2t"
   },
   "outputs": [],
   "source": [
    "# Function that takes a list of models and fits them 1000 times\n",
    "# Recording Accuracy, Precision, Recall and ROC Score\n",
    "def MultipleRuns(modelList,X,y, ListColumnsToStandardize):\n",
    "  # Run the models 1000 and get the median accuracy\n",
    "  modelColumns = np.arange(len(modelList))\n",
    "  nModels = len(modelList)\n",
    "  acc = pd.DataFrame(columns = modelColumns)\n",
    "  pre = pd.DataFrame(columns = modelColumns)\n",
    "  rec = pd.DataFrame(columns = modelColumns)\n",
    "  roc = pd.DataFrame(columns = modelColumns)\n",
    "\n",
    "  for i in tqdm(range(1000)):\n",
    "\n",
    "  # Data split and standarization\n",
    "    X_train, X_test, y_train, y_test = dataSplitStandard(X,y,ListColumnsToStandardize)\n",
    "\n",
    "\n",
    "  # Run Models\n",
    "    x = []\n",
    "    a = []\n",
    "    b = []\n",
    "    c = []\n",
    "    for i in range(nModels):\n",
    "      modelList[i].fit(X_train, y_train)\n",
    "      y_pred = modelList[i].predict(X_test)\n",
    "      x.append(metrics.accuracy_score(y_test,y_pred))\n",
    "      a.append(metrics.precision_score(y_test,y_pred))\n",
    "      b.append(metrics.recall_score(y_test,y_pred))\n",
    "      c.append(roc_auc_score(y_test,y_pred))\n",
    "\n",
    "    acc.loc[len(acc)] = x\n",
    "    pre.loc[len(pre)] = a\n",
    "    rec.loc[len(rec)] = b\n",
    "    roc.loc[len(roc)] = c\n",
    "\n",
    "  return acc, pre, rec, roc"
   ]
  },
  {
   "cell_type": "code",
   "execution_count": null,
   "metadata": {
    "id": "zPjHauOgSjy3"
   },
   "outputs": [],
   "source": [
    "# Read Data\n",
    "\n",
    "# Numerical Columns to Standardize\n",
    "cols = ['year', 'revenue',  'employee_growth1',\n",
    "       'employee_growth2', 'alexa_rank','total_funding', 'recent_funding',\n",
    "       'recent_funding_date', 'number_locations',\n",
    "       'it_budget']\n",
    "# Most IMportant Features according to feature importance of models\n",
    "impFeatures = ['year', 'revenue','alexa_rank','recent_funding_date','number_locations',\n",
    "       'it_budget']\n",
    "\n",
    "# Reads Current and Prospect Datasets\n",
    "prospect = pd.read_csv(r\"prospectData.csv\").set_index('CompanyID',drop = True)\n",
    "prospect = prospect.drop(index = prospect[prospect['ihc']=='mm'].index.tolist())\n",
    "prospect = prospect.drop(columns= ['cc','ihc'])\n",
    "prospect = prospect.dropna()\n",
    "\n",
    "current = pd.read_csv(r\"currentData.csv\").set_index('CompanyID',drop = True)\n",
    "current = current.drop(columns = ['cc','ihc'])"
   ]
  },
  {
   "cell_type": "code",
   "execution_count": null,
   "metadata": {
    "id": "MxAGmU2VSy7V"
   },
   "outputs": [],
   "source": [
    "# Split features and label1\n",
    "X = current.loc[:,:'it_budget']\n",
    "y = current['label']"
   ]
  },
  {
   "cell_type": "markdown",
   "metadata": {
    "id": "Ej12eak_f6NB"
   },
   "source": [
    "## Label 1"
   ]
  },
  {
   "cell_type": "markdown",
   "metadata": {
    "id": "8xR9_hMJf9lM"
   },
   "source": [
    "### Metrics"
   ]
  },
  {
   "cell_type": "code",
   "execution_count": null,
   "metadata": {
    "id": "zzWQQT02S17D"
   },
   "outputs": [],
   "source": [
    "# Declares tuned model objects\n",
    "log = LogisticRegression()\n",
    "dtrees = DecisionTreeClassifier(criterion='entropy', max_depth=3)\n",
    "rf = RandomForestClassifier(max_depth = 3, n_estimators=3)\n",
    "et = ExtraTreesClassifier(n_estimators=3)\n",
    "knn = KNeighborsClassifier(n_neighbors=2)\n",
    "gb = GradientBoostingClassifier(n_estimators=3)\n",
    "xgb = XGBClassifier(objective=\"binary:logistic\")\n",
    "#cb = CatBoostClassifier()\n",
    "lgbm = LGBMClassifier()\n",
    "\n",
    "# Puts the models into a list\n",
    "modelList = [log,dtrees,rf,et,knn,gb,xgb,lgbm]\n",
    "modelNames = ['log','dtrees','rf','et','knn','gb','xgb','lgbm']"
   ]
  },
  {
   "cell_type": "code",
   "execution_count": null,
   "metadata": {
    "id": "MJkYFX-hS4Pc"
   },
   "outputs": [],
   "source": [
    "# Runs metrics of the models above from 1000 times\n",
    "acc, pre, rec, roc = MultipleRuns(modelList,X,y, cols)\n",
    "acc.columns = modelNames\n",
    "pre.columns = modelNames\n",
    "rec.columns = modelNames\n",
    "roc.columns = modelNames"
   ]
  },
  {
   "cell_type": "markdown",
   "metadata": {
    "id": "dFkcS2WQV-VN"
   },
   "source": [
    "Boxplots of metrics of each model"
   ]
  },
  {
   "cell_type": "code",
   "execution_count": null,
   "metadata": {
    "colab": {
     "base_uri": "https://localhost:8080/",
     "height": 448
    },
    "id": "jUt8g0s6TBox",
    "outputId": "ed4ed5c7-fd1e-4d95-f89f-e6e7f1d535b4"
   },
   "outputs": [
    {
     "data": {
      "text/plain": [
       "<Axes: >"
      ]
     },
     "execution_count": 11,
     "metadata": {},
     "output_type": "execute_result"
    },
    {
     "data": {
      "image/png": "[encoded data removed]",
      "text/plain": [
       "<Figure size 640x480 with 1 Axes>"
      ]
     },
     "metadata": {},
     "output_type": "display_data"
    }
   ],
   "source": [
    "\n",
    "sns.boxplot(acc)"
   ]
  },
  {
   "cell_type": "code",
   "execution_count": null,
   "metadata": {
    "colab": {
     "base_uri": "https://localhost:8080/",
     "height": 448
    },
    "id": "o8n7Jw4KTC0h",
    "outputId": "94f02ff3-bd35-4f6f-b799-275021b85831"
   },
   "outputs": [
    {
     "data": {
      "text/plain": [
       "<Axes: >"
      ]
     },
     "execution_count": 12,
     "metadata": {},
     "output_type": "execute_result"
    },
    {
     "data": {
      "image/png": "[encoded data removed]",
      "text/plain": [
       "<Figure size 640x480 with 1 Axes>"
      ]
     },
     "metadata": {},
     "output_type": "display_data"
    }
   ],
   "source": [
    "sns.boxplot(pre)"
   ]
  },
  {
   "cell_type": "code",
   "execution_count": null,
   "metadata": {
    "colab": {
     "base_uri": "https://localhost:8080/",
     "height": 448
    },
    "id": "kHfzzNjaTEMh",
    "outputId": "072cf7c5-d136-4352-8cb6-8f2a1e6d5c96"
   },
   "outputs": [
    {
     "data": {
      "text/plain": [
       "<Axes: >"
      ]
     },
     "execution_count": 14,
     "metadata": {},
     "output_type": "execute_result"
    },
    {
     "data": {
      "image/png": "[encoded data removed]",
      "text/plain": [
       "<Figure size 640x480 with 1 Axes>"
      ]
     },
     "metadata": {},
     "output_type": "display_data"
    }
   ],
   "source": [
    "sns.boxplot(rec)"
   ]
  },
  {
   "cell_type": "code",
   "execution_count": null,
   "metadata": {
    "colab": {
     "base_uri": "https://localhost:8080/",
     "height": 448
    },
    "id": "lLj3vf_6TEjM",
    "outputId": "1915dc7b-ccda-43d4-c47f-45b58569cf7e"
   },
   "outputs": [
    {
     "data": {
      "text/plain": [
       "<Axes: >"
      ]
     },
     "execution_count": 15,
     "metadata": {},
     "output_type": "execute_result"
    },
    {
     "data": {
      "image/png": "[encoded data removed]",
      "text/plain": [
       "<Figure size 640x480 with 1 Axes>"
      ]
     },
     "metadata": {},
     "output_type": "display_data"
    }
   ],
   "source": [
    "sns.boxplot(roc)"
   ]
  },
  {
   "cell_type": "markdown",
   "metadata": {
    "id": "bAzD4NleWMd2"
   },
   "source": [
    "### Recomend Prospect Companies (Based on label1)"
   ]
  },
  {
   "cell_type": "code",
   "execution_count": null,
   "metadata": {
    "id": "dU3k-FddTWaK"
   },
   "outputs": [],
   "source": [
    "log = LogisticRegression()\n",
    "xgb = XGBClassifier(objective=\"binary:logistic\")\n",
    "lgbm = LGBMClassifier()\n",
    "rf = RandomForestClassifier(max_depth = 3, n_estimators=3)\n",
    "dtrees = DecisionTreeClassifier(criterion='entropy', max_depth=3)\n",
    "et = ExtraTreesClassifier(n_estimators=3)\n",
    "gb = GradientBoostingClassifier(n_estimators=3)\n",
    "knn = KNeighborsClassifier(n_neighbors=2)\n",
    "\n",
    "\n",
    "modelList = [log,xgb,lgbm,rf,dtrees,et,gb,knn]\n",
    "modelNames = ['log','xgb','lgbm','rf','dtrees','et','gb','knn']"
   ]
  },
  {
   "cell_type": "code",
   "execution_count": null,
   "metadata": {
    "id": "dgXTWZgKTYUB"
   },
   "outputs": [],
   "source": [
    "# Fit and predict all the models with the whole current dataset\n",
    "recomend = pd.DataFrame()\n",
    "for i in range(len(modelList)):\n",
    "  modelList[i].fit(X,y)\n",
    "  recomend[modelNames[i]]= list(modelList[i].predict(prospect))\n",
    "recomend.index = prospect.index"
   ]
  },
  {
   "cell_type": "code",
   "execution_count": null,
   "metadata": {
    "id": "RHPN2JryTc1n"
   },
   "outputs": [],
   "source": [
    "# Gets the Company IDs of all the companies recomended by all the models\n",
    "companiesIDs = recomend[(recomend.log==1)&(recomend.xgb==1) &(recomend.lgbm==1)&(recomend.rf==1)&(recomend.dtrees==1)&(recomend.et==1)& (recomend.gb==1) & (recomend.knn==1)].index\n"
   ]
  },
  {
   "cell_type": "code",
   "execution_count": null,
   "metadata": {
    "colab": {
     "base_uri": "https://localhost:8080/",
     "height": 467
    },
    "id": "Gi6r2GTLTkkZ",
    "outputId": "e50059ba-a0e9-4d49-a277-6949fb55af17"
   },
   "outputs": [
    {
     "data": {
      "text/plain": [
       "<Axes: xlabel='revenue', ylabel='Count'>"
      ]
     },
     "execution_count": 47,
     "metadata": {},
     "output_type": "execute_result"
    },
    {
     "data": {
      "image/png": "[encoded data removed]",
      "text/plain": [
       "<Figure size 640x480 with 1 Axes>"
      ]
     },
     "metadata": {},
     "output_type": "display_data"
    }
   ],
   "source": [
    "# Revenue Distribution plot of recomended companies\n",
    "sns.histplot(prospect.loc[companiesIDs]['revenue'])"
   ]
  },
  {
   "cell_type": "markdown",
   "metadata": {
    "id": "0wOZLfaLTxbR"
   },
   "source": [
    "## Label 2"
   ]
  },
  {
   "cell_type": "code",
   "execution_count": null,
   "metadata": {
    "id": "OPLwHatVTt39"
   },
   "outputs": [],
   "source": [
    "# Divide total billling sum by the number of\n",
    "# locations the company is being billed\n",
    "current['label2']=current['lifetime_billing_sum']/current['count']\n",
    "median = current['label2'].median()\n",
    "\n",
    "current['label2'].describe()\n",
    "\n",
    "for i in range(len(current)):\n",
    "  if current['label2'].iloc[i]<median:\n",
    "    current['label2'].iloc[i] = 0\n",
    "  else:\n",
    "    current['label2'].iloc[i]=1\n",
    "current['label2'].value_counts()"
   ]
  },
  {
   "cell_type": "code",
   "execution_count": null,
   "metadata": {
    "id": "raIzYEyaT1T8"
   },
   "outputs": [],
   "source": [
    "# Splits the data by features and label\n",
    "X = current.loc[:,:'it_budget']\n",
    "y = current['label2']"
   ]
  },
  {
   "cell_type": "markdown",
   "metadata": {
    "id": "5PO-n6T2T4lm"
   },
   "source": [
    "### Fitting Model"
   ]
  },
  {
   "cell_type": "code",
   "execution_count": null,
   "metadata": {
    "id": "VQ3OSiHIT5kG"
   },
   "outputs": [],
   "source": [
    "log = LogisticRegression()\n",
    "xgb = XGBClassifier(objective=\"binary:logistic\")\n",
    "lgbm = LGBMClassifier()\n",
    "rf = RandomForestClassifier(max_depth = 2, n_estimators=2)\n",
    "dtrees = DecisionTreeClassifier(criterion='entropy', max_depth=2)\n",
    "et = ExtraTreesClassifier(n_estimators=2)\n",
    "gb = GradientBoostingClassifier(n_estimators=3)\n",
    "knn = KNeighborsClassifier(n_neighbors=2)\n",
    "\n",
    "\n",
    "modelList = [log,xgb,lgbm,rf,dtrees,et,gb,knn]\n",
    "modelNames = ['log','xgb','lgbm','rf','dtrees','et','gb','knn']"
   ]
  },
  {
   "cell_type": "code",
   "execution_count": null,
   "metadata": {
    "id": "6S1YE3x8T-lc"
   },
   "outputs": [],
   "source": [
    "# 1000 iterations to get models' metrics\n",
    "accNewLabel, newPre, newRec, newRoc = MultipleRuns(modelList,X,y, cols)\n",
    "accNewLabel.columns = modelNames\n",
    "newPre.columns = modelNames\n",
    "newRec.columns = modelNames\n",
    "newRoc.columns = modelNames"
   ]
  },
  {
   "cell_type": "markdown",
   "metadata": {
    "id": "SI7t1Q1tWye2"
   },
   "source": [
    "Boxplots of metrics"
   ]
  },
  {
   "cell_type": "code",
   "execution_count": null,
   "metadata": {
    "colab": {
     "base_uri": "https://localhost:8080/",
     "height": 448
    },
    "id": "eKbg0unsUBgt",
    "outputId": "82bc7c4c-6318-44fe-e5c2-368d1357d9cd"
   },
   "outputs": [
    {
     "data": {
      "text/plain": [
       "<Axes: >"
      ]
     },
     "execution_count": 25,
     "metadata": {},
     "output_type": "execute_result"
    },
    {
     "data": {
      "image/png": "[encoded data removed]",
      "text/plain": [
       "<Figure size 640x480 with 1 Axes>"
      ]
     },
     "metadata": {},
     "output_type": "display_data"
    }
   ],
   "source": [
    "sns.boxplot(accNewLabel)"
   ]
  },
  {
   "cell_type": "code",
   "execution_count": null,
   "metadata": {
    "colab": {
     "base_uri": "https://localhost:8080/",
     "height": 448
    },
    "id": "8A6Bh8HIUCc3",
    "outputId": "052a3875-5041-415b-da77-85019cec1065"
   },
   "outputs": [
    {
     "data": {
      "text/plain": [
       "<Axes: >"
      ]
     },
     "execution_count": 26,
     "metadata": {},
     "output_type": "execute_result"
    },
    {
     "data": {
      "image/png": "[encoded data removed]",
      "text/plain": [
       "<Figure size 640x480 with 1 Axes>"
      ]
     },
     "metadata": {},
     "output_type": "display_data"
    }
   ],
   "source": [
    "sns.boxplot(newPre)"
   ]
  },
  {
   "cell_type": "code",
   "execution_count": null,
   "metadata": {
    "colab": {
     "base_uri": "https://localhost:8080/",
     "height": 448
    },
    "id": "0HjmRCl8UEbK",
    "outputId": "23f34ee8-e7a8-4894-92fb-dde7c0a1415a"
   },
   "outputs": [
    {
     "data": {
      "text/plain": [
       "<Axes: >"
      ]
     },
     "execution_count": 27,
     "metadata": {},
     "output_type": "execute_result"
    },
    {
     "data": {
      "image/png": "[encoded data removed]",
      "text/plain": [
       "<Figure size 640x480 with 1 Axes>"
      ]
     },
     "metadata": {},
     "output_type": "display_data"
    }
   ],
   "source": [
    "sns.boxplot(newRec)"
   ]
  },
  {
   "cell_type": "code",
   "execution_count": null,
   "metadata": {
    "colab": {
     "base_uri": "https://localhost:8080/",
     "height": 448
    },
    "id": "oIgdCCaZUHKq",
    "outputId": "85a50fdc-b7b5-463b-e731-a6b67a7d9ae5"
   },
   "outputs": [
    {
     "data": {
      "text/plain": [
       "<Axes: >"
      ]
     },
     "execution_count": 28,
     "metadata": {},
     "output_type": "execute_result"
    },
    {
     "data": {
      "image/png": "[encoded data removed]",
      "text/plain": [
       "<Figure size 640x480 with 1 Axes>"
      ]
     },
     "metadata": {},
     "output_type": "display_data"
    }
   ],
   "source": [
    "sns.boxplot(newRoc)"
   ]
  },
  {
   "cell_type": "code",
   "execution_count": null,
   "metadata": {
    "colab": {
     "base_uri": "https://localhost:8080/",
     "height": 448
    },
    "id": "BZL7c1j3UNcv",
    "outputId": "a83913c1-6fbd-48ed-e851-5e09cdccb84b"
   },
   "outputs": [
    {
     "data": {
      "text/plain": [
       "<Axes: >"
      ]
     },
     "execution_count": 29,
     "metadata": {},
     "output_type": "execute_result"
    },
    {
     "data": {
      "image/png": "[encoded data removed]",
      "text/plain": [
       "<Figure size 640x480 with 1 Axes>"
      ]
     },
     "metadata": {},
     "output_type": "display_data"
    }
   ],
   "source": [
    "sns.boxplot(accNewLabel)"
   ]
  },
  {
   "cell_type": "markdown",
   "metadata": {
    "id": "9OwGGDCnUb9F"
   },
   "source": [
    "#### Predict New Label"
   ]
  },
  {
   "cell_type": "code",
   "execution_count": null,
   "metadata": {
    "id": "IQ7kVou3UXEn"
   },
   "outputs": [],
   "source": [
    "# Fit and Predict\n",
    "recomendNewLabel = pd.DataFrame()\n",
    "for i in range(len(modelList)):\n",
    "  modelList[i].fit(X,y)\n",
    "  recomendNewLabel[modelNames[i]]= list(modelList[i].predict(prospect))\n",
    "recomendNewLabel.index = prospect.index"
   ]
  },
  {
   "cell_type": "code",
   "execution_count": null,
   "metadata": {
    "id": "bwwsK_J_Uhqc"
   },
   "outputs": [],
   "source": [
    "# Get Company Ids' of the recomended companies by all the models\n",
    "newLabelCompanyIDs = recomendNewLabel[(recomendNewLabel.log==1)&(recomendNewLabel.xgb==1)&(recomendNewLabel.lgbm==1)&(recomendNewLabel.rf==1)&(recomendNewLabel.dtrees==1)&(recomendNewLabel.et==1)&(recomendNewLabel.gb==1)&(recomendNewLabel.knn==1)].index"
   ]
  },
  {
   "cell_type": "code",
   "execution_count": null,
   "metadata": {
    "colab": {
     "base_uri": "https://localhost:8080/",
     "height": 467
    },
    "id": "fKQw6K-afd7K",
    "outputId": "ddcd8332-81c6-4d26-fa79-328b1d5a8ec8"
   },
   "outputs": [
    {
     "data": {
      "text/plain": [
       "<Axes: xlabel='revenue', ylabel='Count'>"
      ]
     },
     "execution_count": 49,
     "metadata": {},
     "output_type": "execute_result"
    },
    {
     "data": {
      "image/png": "[encoded data removed]",
      "text/plain": [
       "<Figure size 640x480 with 1 Axes>"
      ]
     },
     "metadata": {},
     "output_type": "display_data"
    }
   ],
   "source": [
    "sns.histplot(prospect.loc[newLabelCompanyIDs]['revenue'])"
   ]
  },
  {
   "cell_type": "markdown",
   "metadata": {
    "id": "R8A0WEQGfscz"
   },
   "source": [
    "## Set Diffrence"
   ]
  },
  {
   "cell_type": "code",
   "execution_count": null,
   "metadata": {
    "id": "Gevr-LvpdPQT"
   },
   "outputs": [],
   "source": [
    "# Set Difference of the two labels\n",
    "finalCompanyIDs = companiesIDs[companiesIDs.isin(newLabelCompanyIDs)]"
   ]
  },
  {
   "cell_type": "code",
   "execution_count": null,
   "metadata": {
    "colab": {
     "base_uri": "https://localhost:8080/",
     "height": 475
    },
    "id": "wblqPWpTUoA-",
    "outputId": "c62ba2e0-1736-423a-ca4b-7bdc6a092ed7"
   },
   "outputs": [
    {
     "data": {
      "text/html": [
       "\n",
       "  <div id=\"df-7fa07757-3a55-4976-97f2-d4c2a3fbe6cd\" class=\"colab-df-container\">\n",
       "    <div>\n",
       "<style scoped>\n",
       "    .dataframe tbody tr th:only-of-type {\n",
       "        vertical-align: middle;\n",
       "    }\n",
       "\n",
       "    .dataframe tbody tr th {\n",
       "        vertical-align: top;\n",
       "    }\n",
       "\n",
       "    .dataframe thead th {\n",
       "        text-align: right;\n",
       "    }\n",
       "</style>\n",
       "<table border=\"1\" class=\"dataframe\">\n",
       "  <thead>\n",
       "    <tr style=\"text-align: right;\">\n",
       "      <th></th>\n",
       "      <th>year</th>\n",
       "      <th>revenue</th>\n",
       "      <th>employee_growth1</th>\n",
       "      <th>employee_growth2</th>\n",
       "      <th>alexa_rank</th>\n",
       "      <th>ownership</th>\n",
       "      <th>business_model</th>\n",
       "      <th>certified_active_company</th>\n",
       "      <th>total_funding</th>\n",
       "      <th>recent_funding</th>\n",
       "      <th>recent_funding_date</th>\n",
       "      <th>number_locations</th>\n",
       "      <th>company_acquired</th>\n",
       "      <th>it_budget</th>\n",
       "    </tr>\n",
       "    <tr>\n",
       "      <th>CompanyID</th>\n",
       "      <th></th>\n",
       "      <th></th>\n",
       "      <th></th>\n",
       "      <th></th>\n",
       "      <th></th>\n",
       "      <th></th>\n",
       "      <th></th>\n",
       "      <th></th>\n",
       "      <th></th>\n",
       "      <th></th>\n",
       "      <th></th>\n",
       "      <th></th>\n",
       "      <th></th>\n",
       "      <th></th>\n",
       "    </tr>\n",
       "  </thead>\n",
       "  <tbody>\n",
       "    <tr>\n",
       "      <th>2441797</th>\n",
       "      <td>3.871201</td>\n",
       "      <td>19.775322</td>\n",
       "      <td>0.000000</td>\n",
       "      <td>0.000000</td>\n",
       "      <td>4.499810</td>\n",
       "      <td>0</td>\n",
       "      <td>0</td>\n",
       "      <td>1</td>\n",
       "      <td>14.586660</td>\n",
       "      <td>13.815512</td>\n",
       "      <td>7.921898</td>\n",
       "      <td>3.178054</td>\n",
       "      <td>0</td>\n",
       "      <td>0.243898</td>\n",
       "    </tr>\n",
       "    <tr>\n",
       "      <th>155353090</th>\n",
       "      <td>4.127134</td>\n",
       "      <td>20.262490</td>\n",
       "      <td>0.106160</td>\n",
       "      <td>0.253867</td>\n",
       "      <td>4.406719</td>\n",
       "      <td>0</td>\n",
       "      <td>0</td>\n",
       "      <td>1</td>\n",
       "      <td>8.832150</td>\n",
       "      <td>8.006701</td>\n",
       "      <td>9.847129</td>\n",
       "      <td>8.343554</td>\n",
       "      <td>0</td>\n",
       "      <td>0.118128</td>\n",
       "    </tr>\n",
       "    <tr>\n",
       "      <th>10256729</th>\n",
       "      <td>4.110874</td>\n",
       "      <td>19.642112</td>\n",
       "      <td>0.000000</td>\n",
       "      <td>0.000000</td>\n",
       "      <td>6.120297</td>\n",
       "      <td>0</td>\n",
       "      <td>1</td>\n",
       "      <td>1</td>\n",
       "      <td>0.000000</td>\n",
       "      <td>0.000000</td>\n",
       "      <td>9.994288</td>\n",
       "      <td>3.465736</td>\n",
       "      <td>0</td>\n",
       "      <td>0.122535</td>\n",
       "    </tr>\n",
       "    <tr>\n",
       "      <th>19513364</th>\n",
       "      <td>4.025352</td>\n",
       "      <td>17.960231</td>\n",
       "      <td>0.291176</td>\n",
       "      <td>0.525911</td>\n",
       "      <td>7.907652</td>\n",
       "      <td>0</td>\n",
       "      <td>0</td>\n",
       "      <td>1</td>\n",
       "      <td>8.824825</td>\n",
       "      <td>8.824825</td>\n",
       "      <td>9.869414</td>\n",
       "      <td>3.433987</td>\n",
       "      <td>0</td>\n",
       "      <td>0.120111</td>\n",
       "    </tr>\n",
       "    <tr>\n",
       "      <th>7783252</th>\n",
       "      <td>4.976734</td>\n",
       "      <td>19.278142</td>\n",
       "      <td>0.000000</td>\n",
       "      <td>0.000000</td>\n",
       "      <td>11.054850</td>\n",
       "      <td>0</td>\n",
       "      <td>0</td>\n",
       "      <td>1</td>\n",
       "      <td>0.000000</td>\n",
       "      <td>0.000000</td>\n",
       "      <td>10.869730</td>\n",
       "      <td>3.713572</td>\n",
       "      <td>0</td>\n",
       "      <td>0.280895</td>\n",
       "    </tr>\n",
       "    <tr>\n",
       "      <th>...</th>\n",
       "      <td>...</td>\n",
       "      <td>...</td>\n",
       "      <td>...</td>\n",
       "      <td>...</td>\n",
       "      <td>...</td>\n",
       "      <td>...</td>\n",
       "      <td>...</td>\n",
       "      <td>...</td>\n",
       "      <td>...</td>\n",
       "      <td>...</td>\n",
       "      <td>...</td>\n",
       "      <td>...</td>\n",
       "      <td>...</td>\n",
       "      <td>...</td>\n",
       "    </tr>\n",
       "    <tr>\n",
       "      <th>77448833</th>\n",
       "      <td>3.367296</td>\n",
       "      <td>11.896847</td>\n",
       "      <td>0.000000</td>\n",
       "      <td>0.000000</td>\n",
       "      <td>14.048055</td>\n",
       "      <td>1</td>\n",
       "      <td>0</td>\n",
       "      <td>1</td>\n",
       "      <td>0.000000</td>\n",
       "      <td>0.000000</td>\n",
       "      <td>8.533263</td>\n",
       "      <td>3.178054</td>\n",
       "      <td>0</td>\n",
       "      <td>0.167158</td>\n",
       "    </tr>\n",
       "    <tr>\n",
       "      <th>25298551</th>\n",
       "      <td>3.091042</td>\n",
       "      <td>12.388957</td>\n",
       "      <td>0.034401</td>\n",
       "      <td>0.031499</td>\n",
       "      <td>9.483492</td>\n",
       "      <td>1</td>\n",
       "      <td>0</td>\n",
       "      <td>1</td>\n",
       "      <td>0.000000</td>\n",
       "      <td>0.000000</td>\n",
       "      <td>8.944550</td>\n",
       "      <td>2.564949</td>\n",
       "      <td>0</td>\n",
       "      <td>0.151735</td>\n",
       "    </tr>\n",
       "    <tr>\n",
       "      <th>353887720</th>\n",
       "      <td>2.995732</td>\n",
       "      <td>12.477496</td>\n",
       "      <td>0.000000</td>\n",
       "      <td>0.000000</td>\n",
       "      <td>15.096844</td>\n",
       "      <td>1</td>\n",
       "      <td>0</td>\n",
       "      <td>1</td>\n",
       "      <td>11.082158</td>\n",
       "      <td>11.082158</td>\n",
       "      <td>7.685244</td>\n",
       "      <td>2.772589</td>\n",
       "      <td>0</td>\n",
       "      <td>0.232746</td>\n",
       "    </tr>\n",
       "    <tr>\n",
       "      <th>346645007</th>\n",
       "      <td>3.663562</td>\n",
       "      <td>11.568067</td>\n",
       "      <td>0.000000</td>\n",
       "      <td>0.000000</td>\n",
       "      <td>14.464820</td>\n",
       "      <td>1</td>\n",
       "      <td>0</td>\n",
       "      <td>1</td>\n",
       "      <td>5.017280</td>\n",
       "      <td>0.000000</td>\n",
       "      <td>5.484797</td>\n",
       "      <td>3.850148</td>\n",
       "      <td>1</td>\n",
       "      <td>0.284332</td>\n",
       "    </tr>\n",
       "    <tr>\n",
       "      <th>348226603</th>\n",
       "      <td>2.833213</td>\n",
       "      <td>13.425976</td>\n",
       "      <td>0.041142</td>\n",
       "      <td>0.041142</td>\n",
       "      <td>13.203302</td>\n",
       "      <td>1</td>\n",
       "      <td>0</td>\n",
       "      <td>1</td>\n",
       "      <td>10.582003</td>\n",
       "      <td>2.995732</td>\n",
       "      <td>6.905753</td>\n",
       "      <td>2.708050</td>\n",
       "      <td>0</td>\n",
       "      <td>0.292752</td>\n",
       "    </tr>\n",
       "  </tbody>\n",
       "</table>\n",
       "<p>272 rows × 14 columns</p>\n",
       "</div>\n",
       "    <div class=\"colab-df-buttons\">\n",
       "\n",
       "  <div class=\"colab-df-container\">\n",
       "    <button class=\"colab-df-convert\" onclick=\"convertToInteractive('df-7fa07757-3a55-4976-97f2-d4c2a3fbe6cd')\"\n",
       "            title=\"Convert this dataframe to an interactive table.\"\n",
       "            style=\"display:none;\">\n",
       "\n",
       "  <svg xmlns=\"http://www.w3.org/2000/svg\" height=\"24px\" viewBox=\"0 -960 960 960\">\n",
       "    <path d=\"M120-120v-720h720v720H120Zm60-500h600v-160H180v160Zm220 220h160v-160H400v160Zm0 220h160v-160H400v160ZM180-400h160v-160H180v160Zm440 0h160v-160H620v160ZM180-180h160v-160H180v160Zm440 0h160v-160H620v160Z\"/>\n",
       "  </svg>\n",
       "    </button>\n",
       "\n",
       "  <style>\n",
       "    .colab-df-container {\n",
       "      display:flex;\n",
       "      gap: 12px;\n",
       "    }\n",
       "\n",
       "    .colab-df-convert {\n",
       "      background-color: #E8F0FE;\n",
       "      border: none;\n",
       "      border-radius: 50%;\n",
       "      cursor: pointer;\n",
       "      display: none;\n",
       "      fill: #1967D2;\n",
       "      height: 32px;\n",
       "      padding: 0 0 0 0;\n",
       "      width: 32px;\n",
       "    }\n",
       "\n",
       "    .colab-df-convert:hover {\n",
       "      background-color: #E2EBFA;\n",
       "      box-shadow: 0px 1px 2px rgba(60, 64, 67, 0.3), 0px 1px 3px 1px rgba(60, 64, 67, 0.15);\n",
       "      fill: #174EA6;\n",
       "    }\n",
       "\n",
       "    .colab-df-buttons div {\n",
       "      margin-bottom: 4px;\n",
       "    }\n",
       "\n",
       "    [theme=dark] .colab-df-convert {\n",
       "      background-color: #3B4455;\n",
       "      fill: #D2E3FC;\n",
       "    }\n",
       "\n",
       "    [theme=dark] .colab-df-convert:hover {\n",
       "      background-color: #434B5C;\n",
       "      box-shadow: 0px 1px 3px 1px rgba(0, 0, 0, 0.15);\n",
       "      filter: drop-shadow(0px 1px 2px rgba(0, 0, 0, 0.3));\n",
       "      fill: #FFFFFF;\n",
       "    }\n",
       "  </style>\n",
       "\n",
       "    <script>\n",
       "      const buttonEl =\n",
       "        document.querySelector('#df-7fa07757-3a55-4976-97f2-d4c2a3fbe6cd button.colab-df-convert');\n",
       "      buttonEl.style.display =\n",
       "        google.colab.kernel.accessAllowed ? 'block' : 'none';\n",
       "\n",
       "      async function convertToInteractive(key) {\n",
       "        const element = document.querySelector('#df-7fa07757-3a55-4976-97f2-d4c2a3fbe6cd');\n",
       "        const dataTable =\n",
       "          await google.colab.kernel.invokeFunction('convertToInteractive',\n",
       "                                                    [key], {});\n",
       "        if (!dataTable) return;\n",
       "\n",
       "        const docLinkHtml = 'Like what you see? Visit the ' +\n",
       "          '<a target=\"_blank\" href=https://colab.research.google.com/notebooks/data_table.ipynb>data table notebook</a>'\n",
       "          + ' to learn more about interactive tables.';\n",
       "        element.innerHTML = '';\n",
       "        dataTable['output_type'] = 'display_data';\n",
       "        await google.colab.output.renderOutput(dataTable, element);\n",
       "        const docLink = document.createElement('div');\n",
       "        docLink.innerHTML = docLinkHtml;\n",
       "        element.appendChild(docLink);\n",
       "      }\n",
       "    </script>\n",
       "  </div>\n",
       "\n",
       "\n",
       "<div id=\"df-7bf578d1-d7ab-4616-bd4d-41831d8ad010\">\n",
       "  <button class=\"colab-df-quickchart\" onclick=\"quickchart('df-7bf578d1-d7ab-4616-bd4d-41831d8ad010')\"\n",
       "            title=\"Suggest charts\"\n",
       "            style=\"display:none;\">\n",
       "\n",
       "<svg xmlns=\"http://www.w3.org/2000/svg\" height=\"24px\"viewBox=\"0 0 24 24\"\n",
       "     width=\"24px\">\n",
       "    <g>\n",
       "        <path d=\"M19 3H5c-1.1 0-2 .9-2 2v14c0 1.1.9 2 2 2h14c1.1 0 2-.9 2-2V5c0-1.1-.9-2-2-2zM9 17H7v-7h2v7zm4 0h-2V7h2v10zm4 0h-2v-4h2v4z\"/>\n",
       "    </g>\n",
       "</svg>\n",
       "  </button>\n",
       "\n",
       "<style>\n",
       "  .colab-df-quickchart {\n",
       "      --bg-color: #E8F0FE;\n",
       "      --fill-color: #1967D2;\n",
       "      --hover-bg-color: #E2EBFA;\n",
       "      --hover-fill-color: #174EA6;\n",
       "      --disabled-fill-color: #AAA;\n",
       "      --disabled-bg-color: #DDD;\n",
       "  }\n",
       "\n",
       "  [theme=dark] .colab-df-quickchart {\n",
       "      --bg-color: #3B4455;\n",
       "      --fill-color: #D2E3FC;\n",
       "      --hover-bg-color: #434B5C;\n",
       "      --hover-fill-color: #FFFFFF;\n",
       "      --disabled-bg-color: #3B4455;\n",
       "      --disabled-fill-color: #666;\n",
       "  }\n",
       "\n",
       "  .colab-df-quickchart {\n",
       "    background-color: var(--bg-color);\n",
       "    border: none;\n",
       "    border-radius: 50%;\n",
       "    cursor: pointer;\n",
       "    display: none;\n",
       "    fill: var(--fill-color);\n",
       "    height: 32px;\n",
       "    padding: 0;\n",
       "    width: 32px;\n",
       "  }\n",
       "\n",
       "  .colab-df-quickchart:hover {\n",
       "    background-color: var(--hover-bg-color);\n",
       "    box-shadow: 0 1px 2px rgba(60, 64, 67, 0.3), 0 1px 3px 1px rgba(60, 64, 67, 0.15);\n",
       "    fill: var(--button-hover-fill-color);\n",
       "  }\n",
       "\n",
       "  .colab-df-quickchart-complete:disabled,\n",
       "  .colab-df-quickchart-complete:disabled:hover {\n",
       "    background-color: var(--disabled-bg-color);\n",
       "    fill: var(--disabled-fill-color);\n",
       "    box-shadow: none;\n",
       "  }\n",
       "\n",
       "  .colab-df-spinner {\n",
       "    border: 2px solid var(--fill-color);\n",
       "    border-color: transparent;\n",
       "    border-bottom-color: var(--fill-color);\n",
       "    animation:\n",
       "      spin 1s steps(1) infinite;\n",
       "  }\n",
       "\n",
       "  @keyframes spin {\n",
       "    0% {\n",
       "      border-color: transparent;\n",
       "      border-bottom-color: var(--fill-color);\n",
       "      border-left-color: var(--fill-color);\n",
       "    }\n",
       "    20% {\n",
       "      border-color: transparent;\n",
       "      border-left-color: var(--fill-color);\n",
       "      border-top-color: var(--fill-color);\n",
       "    }\n",
       "    30% {\n",
       "      border-color: transparent;\n",
       "      border-left-color: var(--fill-color);\n",
       "      border-top-color: var(--fill-color);\n",
       "      border-right-color: var(--fill-color);\n",
       "    }\n",
       "    40% {\n",
       "      border-color: transparent;\n",
       "      border-right-color: var(--fill-color);\n",
       "      border-top-color: var(--fill-color);\n",
       "    }\n",
       "    60% {\n",
       "      border-color: transparent;\n",
       "      border-right-color: var(--fill-color);\n",
       "    }\n",
       "    80% {\n",
       "      border-color: transparent;\n",
       "      border-right-color: var(--fill-color);\n",
       "      border-bottom-color: var(--fill-color);\n",
       "    }\n",
       "    90% {\n",
       "      border-color: transparent;\n",
       "      border-bottom-color: var(--fill-color);\n",
       "    }\n",
       "  }\n",
       "</style>\n",
       "\n",
       "  <script>\n",
       "    async function quickchart(key) {\n",
       "      const quickchartButtonEl =\n",
       "        document.querySelector('#' + key + ' button');\n",
       "      quickchartButtonEl.disabled = true;  // To prevent multiple clicks.\n",
       "      quickchartButtonEl.classList.add('colab-df-spinner');\n",
       "      try {\n",
       "        const charts = await google.colab.kernel.invokeFunction(\n",
       "            'suggestCharts', [key], {});\n",
       "      } catch (error) {\n",
       "        console.error('Error during call to suggestCharts:', error);\n",
       "      }\n",
       "      quickchartButtonEl.classList.remove('colab-df-spinner');\n",
       "      quickchartButtonEl.classList.add('colab-df-quickchart-complete');\n",
       "    }\n",
       "    (() => {\n",
       "      let quickchartButtonEl =\n",
       "        document.querySelector('#df-7bf578d1-d7ab-4616-bd4d-41831d8ad010 button');\n",
       "      quickchartButtonEl.style.display =\n",
       "        google.colab.kernel.accessAllowed ? 'block' : 'none';\n",
       "    })();\n",
       "  </script>\n",
       "</div>\n",
       "    </div>\n",
       "  </div>\n"
      ],
      "text/plain": [
       "               year    revenue  employee_growth1  employee_growth2  \\\n",
       "CompanyID                                                            \n",
       "2441797    3.871201  19.775322          0.000000          0.000000   \n",
       "155353090  4.127134  20.262490          0.106160          0.253867   \n",
       "10256729   4.110874  19.642112          0.000000          0.000000   \n",
       "19513364   4.025352  17.960231          0.291176          0.525911   \n",
       "7783252    4.976734  19.278142          0.000000          0.000000   \n",
       "...             ...        ...               ...               ...   \n",
       "77448833   3.367296  11.896847          0.000000          0.000000   \n",
       "25298551   3.091042  12.388957          0.034401          0.031499   \n",
       "353887720  2.995732  12.477496          0.000000          0.000000   \n",
       "346645007  3.663562  11.568067          0.000000          0.000000   \n",
       "348226603  2.833213  13.425976          0.041142          0.041142   \n",
       "\n",
       "           alexa_rank  ownership  business_model  certified_active_company  \\\n",
       "CompanyID                                                                    \n",
       "2441797      4.499810          0               0                         1   \n",
       "155353090    4.406719          0               0                         1   \n",
       "10256729     6.120297          0               1                         1   \n",
       "19513364     7.907652          0               0                         1   \n",
       "7783252     11.054850          0               0                         1   \n",
       "...               ...        ...             ...                       ...   \n",
       "77448833    14.048055          1               0                         1   \n",
       "25298551     9.483492          1               0                         1   \n",
       "353887720   15.096844          1               0                         1   \n",
       "346645007   14.464820          1               0                         1   \n",
       "348226603   13.203302          1               0                         1   \n",
       "\n",
       "           total_funding  recent_funding  recent_funding_date  \\\n",
       "CompanyID                                                       \n",
       "2441797        14.586660       13.815512             7.921898   \n",
       "155353090       8.832150        8.006701             9.847129   \n",
       "10256729        0.000000        0.000000             9.994288   \n",
       "19513364        8.824825        8.824825             9.869414   \n",
       "7783252         0.000000        0.000000            10.869730   \n",
       "...                  ...             ...                  ...   \n",
       "77448833        0.000000        0.000000             8.533263   \n",
       "25298551        0.000000        0.000000             8.944550   \n",
       "353887720      11.082158       11.082158             7.685244   \n",
       "346645007       5.017280        0.000000             5.484797   \n",
       "348226603      10.582003        2.995732             6.905753   \n",
       "\n",
       "           number_locations  company_acquired  it_budget  \n",
       "CompanyID                                                 \n",
       "2441797            3.178054                 0   0.243898  \n",
       "155353090          8.343554                 0   0.118128  \n",
       "10256729           3.465736                 0   0.122535  \n",
       "19513364           3.433987                 0   0.120111  \n",
       "7783252            3.713572                 0   0.280895  \n",
       "...                     ...               ...        ...  \n",
       "77448833           3.178054                 0   0.167158  \n",
       "25298551           2.564949                 0   0.151735  \n",
       "353887720          2.772589                 0   0.232746  \n",
       "346645007          3.850148                 1   0.284332  \n",
       "348226603          2.708050                 0   0.292752  \n",
       "\n",
       "[272 rows x 14 columns]"
      ]
     },
     "execution_count": 38,
     "metadata": {},
     "output_type": "execute_result"
    }
   ],
   "source": [
    "# Final Recomended Companies\n",
    "finalRecomend = prospect.loc[finalCompanyIDs]\n",
    "finalRecomend"
   ]
  },
  {
   "cell_type": "code",
   "execution_count": null,
   "metadata": {
    "colab": {
     "base_uri": "https://localhost:8080/",
     "height": 467
    },
    "id": "zh9uMPJgUve0",
    "outputId": "b93c3175-b555-4025-9005-21cb729ca325"
   },
   "outputs": [
    {
     "data": {
      "text/plain": [
       "<Axes: xlabel='revenue', ylabel='Count'>"
      ]
     },
     "execution_count": 44,
     "metadata": {},
     "output_type": "execute_result"
    },
    {
     "data": {
      "image/png": "[encoded data removed]",
      "text/plain": [
       "<Figure size 640x480 with 1 Axes>"
      ]
     },
     "metadata": {},
     "output_type": "display_data"
    }
   ],
   "source": [
    "# Distribution plot of recomended companies\n",
    "sns.histplot(finalRecomend['revenue'])"
   ]
  },
  {
   "cell_type": "code",
   "execution_count": null,
   "metadata": {
    "colab": {
     "base_uri": "https://localhost:8080/",
     "height": 467
    },
    "id": "8_dESAkneg7B",
    "outputId": "7ba3afd5-ac50-48db-e4c7-182a26a29802"
   },
   "outputs": [
    {
     "data": {
      "text/plain": [
       "<Axes: xlabel='revenue', ylabel='Count'>"
      ]
     },
     "execution_count": 45,
     "metadata": {},
     "output_type": "execute_result"
    },
    {
     "data": {
      "image/png": "[encoded data removed]",
      "text/plain": [
       "<Figure size 640x480 with 1 Axes>"
      ]
     },
     "metadata": {},
     "output_type": "display_data"
    }
   ],
   "source": [
    "sns.histplot(prospect['revenue'])"
   ]
  }
 ],
 "metadata": {
  "colab": {
   "collapsed_sections": [
    "fdRX3clwgFpi",
    "Ej12eak_f6NB",
    "8xR9_hMJf9lM",
    "bAzD4NleWMd2",
    "0wOZLfaLTxbR",
    "5PO-n6T2T4lm",
    "R8A0WEQGfscz"
   ],
   "provenance": []
  },
  "kernelspec": {
   "display_name": "Python 3 (ipykernel)",
   "language": "python",
   "name": "python3"
  },
  "language_info": {
   "codemirror_mode": {
    "name": "ipython",
    "version": 3
   },
   "file_extension": ".py",
   "mimetype": "text/x-python",
   "name": "python",
   "nbconvert_exporter": "python",
   "pygments_lexer": "ipython3",
   "version": "3.11.5"
  }
 },
 "nbformat": 4,
 "nbformat_minor": 1
}
